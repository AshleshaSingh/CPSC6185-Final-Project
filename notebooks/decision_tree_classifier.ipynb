{
 "cells": [
  {
   "cell_type": "code",
   "execution_count": null,
   "metadata": {},
   "outputs": [],
   "source": [
    "# Decision Tree Classifier for RECS 2020 Dataset\n",
    "# ============================================\n",
    "# This script trains a decision tree classifier (max_depth=4) to predict energy efficiency\n",
    "# classes (High, Moderate, Low) and integrates fuzzy logic scores if available.\n",
    "#\n",
    "# Inputs:\n",
    "# - Processed dataset (data/processed/merged_with_efficiency.csv or merged_cleaned.csv)\n",
    "# Outputs:\n",
    "# - Trained model (models/decision_tree_model.pkl)\n",
    "# - Visualizations (confusion matrix, decision tree)\n",
    "# - Metrics (accuracy, classification report, cross-validation)\n",
    "#\n",
    "# Dependencies: pandas, matplotlib, seaborn, scikit-learn, joblib"
   ]
  },
  {
   "cell_type": "code",
   "execution_count": null,
   "metadata": {},
   "outputs": [],
   "source": [
    "import pandas as pd\n",
    "import matplotlib.pyplot as plt\n",
    "import seaborn as sns\n",
    "import os\n",
    "import joblib\n",
    "from sklearn.model_selection import train_test_split, cross_val_score\n",
    "from sklearn.tree import DecisionTreeClassifier, plot_tree\n",
    "from sklearn.metrics import accuracy_score, classification_report, confusion_matrix\n",
    "\n",
    "# Setup paths\n",
    "BASE_DIR = os.path.abspath(os.path.join(os.getcwd(), \"..\"))\n",
    "DATA_DIR = os.path.join(BASE_DIR, \"data\")\n",
    "PROCESSED_DIR = os.path.join(DATA_DIR, \"processed\")\n",
    "MODELS_DIR = os.path.join(BASE_DIR, \"models\")"
   ]
  },
  {
   "cell_type": "code",
   "execution_count": null,
   "metadata": {},
   "outputs": [],
   "source": [
    "# Load the processed dataset with fuzzy scores\n",
    "df = pd.read_csv(os.path.join(PROCESSED_DIR, \"merged_with_efficiency.csv\"))"
   ]
  },
  {
   "cell_type": "code",
   "execution_count": null,
   "metadata": {},
   "outputs": [],
   "source": [
    "# Define features\n",
    "features = [\n",
    "    'ENERGY_CONSUMPTION_PER_SQFT', 'Pct_INCOME_MORE_THAN_150K',\n",
    "    'Pct_HOUSING_SINGLE_FAMILY_HOME_DETACHED', 'Pct_HOUSING_APT_MORE_THAN_5_UNITS',\n",
    "    'CLIMATE_Cold', 'CLIMATE_Hot-Humid', 'CLIMATE_Mixed-Humid', 'CLIMATE_Very-Cold',\n",
    "    'Pct_BUILT_BEFORE_1950', 'Pct_MAIN_AC_AGE_OLDER_THAN_20',\n",
    "    'Pct_MAIN_HEAT_AGE_OLDER_THAN_20', 'Pct_MAIN_WATER_HEAT_AGE_OLDER_THAN_20'\n",
    "]\n",
    "available_features = [col for col in features if col in df.columns]\n",
    "\n",
    "# Prepare model DataFrame\n",
    "df_model = df[available_features + ['Efficiency_Class', 'FINAL_CLASS']].copy()"
   ]
  },
  {
   "cell_type": "code",
   "execution_count": null,
   "metadata": {},
   "outputs": [],
   "source": [
    "# Prepare data\n",
    "X = df_model[available_features]\n",
    "y = df_model['Efficiency_Class']\n",
    "X_train, X_test, y_train, y_test = train_test_split(X, y, test_size=0.2, random_state=42)\n",
    "\n",
    "# Train decision tree with max_depth=4\n",
    "clf = DecisionTreeClassifier(max_depth=4, random_state=42)\n",
    "clf.fit(X_train, y_train)\n",
    "\n",
    "# Evaluate model\n",
    "y_pred = clf.predict(X_test)\n",
    "print(\"Decision Tree Accuracy:\", accuracy_score(y_test, y_pred))\n",
    "print(\"\\nClassification Report:\\n\", classification_report(y_test, y_pred))"
   ]
  },
  {
   "cell_type": "code",
   "execution_count": null,
   "metadata": {},
   "outputs": [],
   "source": [
    "# Use fuzzy-refined classes for comparison\n",
    "y_fuzzy = df_model.loc[X_test.index, 'FINAL_CLASS']\n",
    "print(\"\\nFuzzy-Refined Accuracy:\", accuracy_score(y_test, y_fuzzy))\n",
    "print(\"\\nFuzzy-Refined Classification Report:\\n\", classification_report(y_test, y_fuzzy))"
   ]
  },
  {
   "cell_type": "code",
   "execution_count": null,
   "metadata": {},
   "outputs": [],
   "source": [
    "# 5-fold cross-validation\n",
    "cv_scores = cross_val_score(clf, X, y, cv=5, scoring='accuracy')\n",
    "print(\"Cross-Validation Scores:\", cv_scores)\n",
    "print(\"Average CV Accuracy:\", cv_scores.mean())"
   ]
  },
  {
   "cell_type": "code",
   "execution_count": null,
   "metadata": {},
   "outputs": [],
   "source": [
    "# Confusion matrix visualization\n",
    "conf_matrix = confusion_matrix(y_test, y_pred, labels=clf.classes_)\n",
    "plt.figure(figsize=(6, 4))\n",
    "sns.heatmap(conf_matrix, annot=True, fmt='d', xticklabels=clf.classes_,\n",
    "            yticklabels=clf.classes_, cmap=\"Blues\")\n",
    "plt.xlabel(\"Predicted\")\n",
    "plt.ylabel(\"Actual\")\n",
    "plt.title(\"Decision Tree Confusion Matrix\")\n",
    "plt.show()"
   ]
  },
  {
   "cell_type": "code",
   "execution_count": null,
   "metadata": {},
   "outputs": [],
   "source": [
    "# Decision tree visualization\n",
    "plt.figure(figsize=(18, 10))\n",
    "plot_tree(clf, feature_names=available_features, class_names=clf.classes_,\n",
    "          filled=True, rounded=True)\n",
    "plt.title(\"Decision Tree Visualization\")\n",
    "plt.show()"
   ]
  },
  {
   "cell_type": "code",
   "execution_count": null,
   "metadata": {},
   "outputs": [],
   "source": [
    "# Feature importance\n",
    "importances = clf.feature_importances_\n",
    "feature_imp = pd.DataFrame({'Feature': available_features, 'Importance': importances})\n",
    "feature_imp = feature_imp.sort_values('Importance', ascending=False)\n",
    "print(\"\\nFeature Importance:\\n\", feature_imp)"
   ]
  },
  {
   "cell_type": "code",
   "execution_count": null,
   "metadata": {},
   "outputs": [],
   "source": [
    "# Save the model\n",
    "joblib.dump(clf, os.path.join(MODELS_DIR, \"decision_tree_model.pkl\"))"
   ]
  }
 ],
 "metadata": {
  "kernelspec": {
   "display_name": "Python 3",
   "language": "python",
   "name": "python3"
  },
  "language_info": {
   "codemirror_mode": {
    "name": "ipython",
    "version": 3
   },
   "file_extension": ".py",
   "mimetype": "text/x-python",
   "name": "python",
   "nbconvert_exporter": "python",
   "pygments_lexer": "ipython3",
   "version": "3.12.2"
  }
 },
 "nbformat": 4,
 "nbformat_minor": 5
}
