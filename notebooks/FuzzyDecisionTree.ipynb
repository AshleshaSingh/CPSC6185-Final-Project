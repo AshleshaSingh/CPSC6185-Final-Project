{
 "cells": [
  {
   "cell_type": "code",
   "execution_count": null,
   "metadata": {},
   "outputs": [],
   "source": [
    "from fuzzy_logic.ipynb import FuzzyLogic\n",
    "from sklearn.tree import DecisionTreeClassifier, export_text\n",
    "from sklearn.base import BaseEstimator, ClassifierMixin\n",
    "import pandas as pd\n",
    "\n",
    "class FuzzyDecisionTree(BaseEstimator, ClassifierMixin):\n",
    "    def __init__(self, **tree_params):\n",
    "        self.tree = DecisionTreeClassifier(**tree_params)\n",
    "        self.features = ['energy_low', 'energy_medium', 'energy_high',\n",
    "                         'income_low', 'income_medium', 'income_high',\n",
    "                         'climate_cold', 'climate_hot_humid', 'climate_mixed_humid']\n",
    "\n",
    "    def fuzzify_row(self, row):\n",
    "        energy_fuzzy = FuzzyLogic.fuzz_energy(row['ENERGY_CONSUMPTION_PER_SQFT'])\n",
    "        income_fuzzy = FuzzyLogic.fuzz_income(row['Pct_INCOME_MORE_THAN_150K'])\n",
    "\n",
    "        return {\n",
    "            'energy_low': energy_fuzzy['low'],\n",
    "            'energy_medium': energy_fuzzy['medium'],\n",
    "            'energy_high': energy_fuzzy['high'],\n",
    "            'income_low': income_fuzzy['low'],\n",
    "            'income_medium': income_fuzzy['medium'],\n",
    "            'income_high': income_fuzzy['high'],\n",
    "            'climate_cold': row.get('CLIMATE_Cold', 0),\n",
    "            'climate_hot_humid': row.get('CLIMATE_Hot-Humid', 0),\n",
    "            'climate_mixed_humid': row.get('CLIMATE_Mixed-Humid', 0)\n",
    "        }\n",
    "\n",
    "    def fuzzify(self, X):\n",
    "        fuzzy_df = X.apply(self.fuzzify_row, axis=1, result_type='expand')\n",
    "        return fuzzy_df[self.features]\n",
    "\n",
    "    def fit(self, X, y):\n",
    "        X_fuzzy = self.fuzzify(X)\n",
    "        self.tree.fit(X_fuzzy, y)\n",
    "        return self\n",
    "\n",
    "    def predict(self, X):\n",
    "        X_fuzzy = self.fuzzify(X)\n",
    "        return self.tree.predict(X_fuzzy)\n",
    "\n",
    "    def rules(self):\n",
    "        return export_text(self.tree, feature_names=self.features)\n"
   ]
  }
 ],
 "metadata": {
  "kernelspec": {
   "display_name": "Python 3",
   "language": "python",
   "name": "python3"
  },
  "language_info": {
   "codemirror_mode": {
    "name": "ipython",
    "version": 3
   },
   "file_extension": ".py",
   "mimetype": "text/x-python",
   "name": "python",
   "nbconvert_exporter": "python",
   "pygments_lexer": "ipython3",
   "version": "3.11.9"
  }
 },
 "nbformat": 4,
 "nbformat_minor": 2
}
