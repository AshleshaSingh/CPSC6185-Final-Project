{
 "cells": [
  {
   "cell_type": "code",
   "execution_count": null,
   "metadata": {},
   "outputs": [],
   "source": [
    "# Fuzzy Decision Tree Classifier for RECS 2020 Dataset\n",
    "# ==================================================\n",
    "# This script implements a custom Fuzzy Decision Tree classifier using scikit-fuzzy,\n",
    "# predicts energy efficiency classes, and integrates fuzzy logic scores if available.\n",
    "#\n",
    "# Inputs:\n",
    "# - Processed dataset (data/processed/merged_with_efficiency.csv or merged_cleaned.csv)\n",
    "# Outputs:\n",
    "# - Trained model, evaluation metrics, visualizations\n",
    "#\n",
    "# Dependencies: pandas, numpy, scikit-fuzzy, scikit-learn, seaborn, matplotlib"
   ]
  },
  {
   "cell_type": "code",
   "execution_count": null,
   "metadata": {},
   "outputs": [],
   "source": [
    "import pandas as pd\n",
    "import numpy as np\n",
    "import os\n",
    "import joblib\n",
    "import skfuzzy as fuzz\n",
    "from sklearn.tree import DecisionTreeClassifier, export_text\n",
    "from sklearn.base import BaseEstimator, ClassifierMixin\n",
    "from sklearn.model_selection import train_test_split, cross_val_score\n",
    "from sklearn.metrics import accuracy_score, classification_report, confusion_matrix\n",
    "import seaborn as sns\n",
    "import matplotlib.pyplot as plt\n",
    "\n",
    "# Setup paths\n",
    "BASE_DIR = os.path.abspath(os.path.join(os.getcwd(), \"..\"))\n",
    "DATA_DIR = os.path.join(BASE_DIR, \"data\")\n",
    "PROCESSED_DIR = os.path.join(DATA_DIR, \"processed\")\n",
    "MODELS_DIR = os.path.join(BASE_DIR, 'models')\n",
    "os.makedirs(MODELS_DIR, exist_ok=True)\n",
    "\n",
    "# Load data\n",
    "DATA_PATH = os.path.join(PROCESSED_DIR, 'merged_with_efficiency.csv')\n",
    "data = pd.read_csv(DATA_PATH)"
   ]
  },
  {
   "cell_type": "code",
   "execution_count": null,
   "metadata": {},
   "outputs": [],
   "source": [
    "# Define parameters\n",
    "energy_params = (\n",
    "    data['ENERGY_CONSUMPTION_PER_SQFT'].min(),\n",
    "    data['ENERGY_CONSUMPTION_PER_SQFT'].mean(),\n",
    "    data['ENERGY_CONSUMPTION_PER_SQFT'].max()\n",
    ")\n",
    "income_params = (\n",
    "    data['Pct_INCOME_MORE_THAN_150K'].min(),\n",
    "    data['Pct_INCOME_MORE_THAN_150K'].mean(),\n",
    "    data['Pct_INCOME_MORE_THAN_150K'].max()\n",
    ")"
   ]
  },
  {
   "cell_type": "code",
   "execution_count": null,
   "metadata": {},
   "outputs": [],
   "source": []
  },
  {
   "cell_type": "code",
   "execution_count": null,
   "metadata": {},
   "outputs": [],
   "source": [
    "# Features\n",
    "features = [\n",
    "    'ENERGY_CONSUMPTION_PER_SQFT', 'Pct_INCOME_MORE_THAN_150K', 'CLIMATE_Cold',\n",
    "    'Pct_MAIN_HEAT_AGE_OLDER_THAN_20', 'CLIMATE_Hot-Humid', 'CLIMATE_Mixed-Humid',\n",
    "    'CLIMATE_Very-Cold', 'Pct_HOUSING_SINGLE_FAMILY_HOME_DETACHED',\n",
    "    'Pct_HOUSING_APT_MORE_THAN_5_UNITS', 'Pct_BUILT_BEFORE_1950',\n",
    "    'Pct_MAIN_AC_AGE_OLDER_THAN_20', 'Pct_MAIN_WATER_HEAT_OLDER_THAN_20'\n",
    "]\n",
    "features = [f for f in features if f in data.columns]\n",
    "\n",
    "# Prepare data\n",
    "X = data[features]\n",
    "y = data['Efficiency_Class']\n",
    "X_train, X_test, y_train, y_test = train_test_split(X, y, test_size=0.2, random_state=42)\n",
    "\n",
    "# Train FuzzyDecisionTree\n",
    "fdt = FuzzyDecisionTree(max_depth=4, random_state=42)\n",
    "fdt.fit(X_train, y_train, energy_params, income_params)\n",
    "\n",
    "# Evaluate\n",
    "y_pred = fdt.predict(X_test)\n",
    "print('Classification Report:')\n",
    "print(classification_report(y_test, y_pred))"
   ]
  },
  {
   "cell_type": "code",
   "execution_count": null,
   "metadata": {},
   "outputs": [],
   "source": [
    "# Feature importance\n",
    "feature_importance = pd.DataFrame({\n",
    "    'Feature': fdt.feature_names_in_,\n",
    "    'Importance': fdt.feature_importances_\n",
    "})\n",
    "print('Feature Importance:')\n",
    "print(feature_importance[feature_importance['Importance'] > 0])\n",
    "\n",
    "# Save model\n",
    "output_path = os.path.join(MODELS_DIR, 'fuzzy_decision_tree_model.pkl')\n",
    "joblib.dump(fdt, output_path)\n",
    "print(f'Saved model: {output_path}')"
   ]
  }
 ],
 "metadata": {
  "kernelspec": {
   "display_name": "Python 3",
   "language": "python",
   "name": "python3"
  },
  "language_info": {
   "codemirror_mode": {
    "name": "ipython",
    "version": 3
   },
   "file_extension": ".py",
   "mimetype": "text/x-python",
   "name": "python",
   "nbconvert_exporter": "python",
   "pygments_lexer": "ipython3",
   "version": "3.12.2"
  }
 },
 "nbformat": 4,
 "nbformat_minor": 2
}
