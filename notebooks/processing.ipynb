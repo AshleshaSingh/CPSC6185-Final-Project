{
 "cells": [
  {
   "cell_type": "code",
   "execution_count": 1,
   "id": "ab667c66",
   "metadata": {},
   "outputs": [],
   "source": [
    "# This should merge raw data and create ENERGY_CONSUMPTION_PER_SQFT\n",
    "# Save the output to /data/processed/merged_cleaned.csv\n",
    "import pandas as pd\n",
    "\n",
    "# Example merge code:\n",
    "consumption = pd.read_csv(\"/workspaces/CPSC6185-Final-Project/data/raw/recs_annual_household_energy_consumption_and_expenditure.csv\")\n",
    "geo = pd.read_csv(\"/workspaces/CPSC6185-Final-Project/data/raw/recs_geographic_characteristics.csv\")\n",
    "merged = consumption.merge(geo, on=\"STATE\")\n",
    "# ... Do feature engineering\n",
    "merged.to_csv(\"/workspaces/CPSC6185-Final-Project/data/processed/merged_cleaned.csv\", index=False)"
   ]
  }
 ],
 "metadata": {
  "kernelspec": {
   "display_name": "Python 3",
   "language": "python",
   "name": "python3"
  },
  "language_info": {
   "codemirror_mode": {
    "name": "ipython",
    "version": 3
   },
   "file_extension": ".py",
   "mimetype": "text/x-python",
   "name": "python",
   "nbconvert_exporter": "python",
   "pygments_lexer": "ipython3",
   "version": "3.12.1"
  }
 },
 "nbformat": 4,
 "nbformat_minor": 5
}
