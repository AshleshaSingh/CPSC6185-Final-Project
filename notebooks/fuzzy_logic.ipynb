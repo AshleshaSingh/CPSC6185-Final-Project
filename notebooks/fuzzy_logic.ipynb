{
 "cells": [
  {
   "cell_type": "code",
   "execution_count": null,
   "id": "ab667c66",
   "metadata": {},
   "outputs": [],
   "source": [
    "# Fuzzy Logic Implementation for RECS 2020 Dataset\n",
    "# ==============================================\n",
    "# This script applies fuzzy logic using scikit-fuzzy to compute efficiency scores based on\n",
    "# energy consumption, income, equipment age, and climate characteristics. It defines rules,\n",
    "# outputs membership percentages, refines Decision Tree predictions, and visualizes memberships.\n",
    "#\n",
    "# Inputs:\n",
    "# - Processed dataset (data/processed/merged_cleaned.csv)\n",
    "# Outputs:\n",
    "# - Dataset with fuzzy scores (data/processed/merged_with_efficiency.csv)\n",
    "#\n",
    "# Dependencies: pandas, numpy, scikit-fuzzy, matplotlib"
   ]
  },
  {
   "cell_type": "code",
   "execution_count": null,
   "metadata": {},
   "outputs": [],
   "source": [
    "import pandas as pd\n",
    "import numpy as np\n",
    "import os\n",
    "import skfuzzy as fuzz\n",
    "import matplotlib.pyplot as plt\n",
    "\n",
    "# Setup paths\n",
    "BASE_DIR = os.path.abspath(os.path.join(os.getcwd(), \"..\"))\n",
    "DATA_DIR = os.path.join(BASE_DIR, \"data\")\n",
    "PROCESSED_DIR = os.path.join(DATA_DIR, \"processed\")\n",
    "\n",
    "# Load the processed dataset\n",
    "df = pd.read_csv(os.path.join(PROCESSED_DIR, \"merged_cleaned.csv\"))"
   ]
  },
  {
   "cell_type": "code",
   "execution_count": null,
   "metadata": {},
   "outputs": [],
   "source": [
    "# Compute dynamic ranges for fuzzy logic\n",
    "energy_params = (\n",
    "    df['ENERGY_CONSUMPTION_PER_SQFT'].min(),\n",
    "    df['ENERGY_CONSUMPTION_PER_SQFT'].mean(),\n",
    "    df['ENERGY_CONSUMPTION_PER_SQFT'].max()\n",
    ")\n",
    "income_params = (\n",
    "    df['Pct_INCOME_MORE_THAN_150K'].min(),\n",
    "    df['Pct_INCOME_MORE_THAN_150K'].mean(),\n",
    "    df['Pct_INCOME_MORE_THAN_150K'].max()\n",
    ")\n",
    "equipment_params = (\n",
    "    df['Pct_MAIN_HEAT_AGE_OLDER_THAN_20'].min(),\n",
    "    df['Pct_MAIN_HEAT_AGE_OLDER_THAN_20'].mean(),\n",
    "    df['Pct_MAIN_HEAT_AGE_OLDER_THAN_20'].max()\n",
    ")"
   ]
  },
  {
   "cell_type": "code",
   "execution_count": null,
   "metadata": {},
   "outputs": [],
   "source": [
    "# Validate required columns\n",
    "required_cols = ['ENERGY_CONSUMPTION_PER_SQFT', 'Pct_INCOME_MORE_THAN_150K', 'Pct_MAIN_HEAT_AGE_OLDER_THAN_20', 'STATE']\n",
    "required_climate_cols = ['CLIMATE_Cold', 'CLIMATE_Hot-Humid', 'CLIMATE_Mixed-Humid', 'CLIMATE_Very-Cold']\n",
    "missing_cols = [col for col in required_cols + required_climate_cols if col not in df.columns]\n",
    "if missing_cols:\n",
    "    raise ValueError(f\"Missing columns: {missing_cols}\")"
   ]
  },
  {
   "cell_type": "code",
   "execution_count": null,
   "id": "eb08d06a",
   "metadata": {},
   "outputs": [],
   "source": [
    "# Define fuzzy membership functions using scikit-fuzzy\n",
    "def fuzz_energy(val, min_val, mean_val, max_val):\n",
    "    x = np.linspace(min_val, max_val, 100)\n",
    "    low = fuzz.trimf(x, [min_val, min_val, mean_val])\n",
    "    medium = fuzz.trimf(x, [min_val, mean_val, max_val])\n",
    "    high = fuzz.trimf(x, [mean_val, max_val, max_val])\n",
    "    return {\n",
    "        'low': fuzz.interp_membership(x, low, val),\n",
    "        'medium': fuzz.interp_membership(x, medium, val),\n",
    "        'high': fuzz.interp_membership(x, high, val)\n",
    "    }"
   ]
  },
  {
   "cell_type": "code",
   "execution_count": null,
   "id": "5f5a9369",
   "metadata": {},
   "outputs": [],
   "source": [
    "def fuzz_income(val, min_val, mean_val, max_val):\n",
    "    x = np.linspace(min_val, max_val, 100)\n",
    "    low = fuzz.trimf(x, [min_val, min_val, mean_val])\n",
    "    medium = fuzz.trimf(x, [min_val, mean_val, max_val])\n",
    "    high = fuzz.trimf(x, [mean_val, max_val, max_val])\n",
    "    return {\n",
    "        'low': fuzz.interp_membership(x, low, val),\n",
    "        'medium': fuzz.interp_membership(x, medium, val),\n",
    "        'high': fuzz.interp_membership(x, high, val)\n",
    "    }"
   ]
  },
  {
   "cell_type": "code",
   "execution_count": null,
   "id": "61dd6e4c",
   "metadata": {},
   "outputs": [],
   "source": [
    "# Visualize membership functions\n",
    "x_energy = np.linspace(energy_params[0], energy_params[2], 100)\n",
    "energy_low = fuzz.trimf(x_energy, [energy_params[0], energy_params[0], energy_params[1]])\n",
    "energy_medium = fuzz.trimf(x_energy, [energy_params[0], energy_params[1], energy_params[2]])\n",
    "energy_high = fuzz.trimf(x_energy, [energy_params[1], energy_params[2], energy_params[2]])\n",
    "plt.figure(figsize=(8, 4))\n",
    "plt.plot(x_energy, energy_low, label='Low')\n",
    "plt.plot(x_energy, energy_medium, label='Medium')\n",
    "plt.plot(x_energy, energy_high, label='High')\n",
    "plt.xlabel('Energy Consumption (kWh/sqft)')\n",
    "plt.ylabel('Membership')\n",
    "plt.title('Energy Consumption Membership Functions')\n",
    "plt.legend()\n",
    "plt.show()"
   ]
  },
  {
   "cell_type": "code",
   "execution_count": null,
   "id": "884c832b",
   "metadata": {},
   "outputs": [],
   "source": [
    "# Fuzzy efficiency score function\n",
    "def fuzzy_efficiency_score(row):\n",
    "    energy = row['ENERGY_CONSUMPTION_PER_SQFT']\n",
    "    income = row['Pct_INCOME_MORE_THAN_150K']\n",
    "    \n",
    "    # Fuzzy energy level (using scikit-fuzzy)\n",
    "    energy_fuzzy = fuzz_energy(energy, *energy_params)\n",
    "    energy_score = energy_fuzzy['low']\n",
    "    \n",
    "    # Fuzzy income level\n",
    "    income_fuzzy = fuzz_income(income, *income_params)\n",
    "    income_score = income_fuzzy['high']\n",
    "    \n",
    "    # Fuzzy climate level\n",
    "    climate_score = 0.0\n",
    "    if row.get('CLIMATE_Cold', 0) == 1:\n",
    "        climate_score = 1.0\n",
    "    elif row.get('CLIMATE_Mixed-Humid', 0) == 1:\n",
    "        climate_score = 0.5\n",
    "    \n",
    "    # Final fuzzy efficiency score (equal weighting)\n",
    "    avg_score = (energy_score + income_score + climate_score) / 3\n",
    "    return round(avg_score * 100, 2)"
   ]
  },
  {
   "cell_type": "code",
   "execution_count": null,
   "id": "5876e5b9",
   "metadata": {},
   "outputs": [],
   "source": [
    "# Rule-based efficiency\n",
    "def rule_based_efficiency(row):\n",
    "    energy = row['ENERGY_CONSUMPTION_PER_SQFT']\n",
    "    cold = row.get('CLIMATE_Cold', 0)\n",
    "    hot_humid = row.get('CLIMATE_Hot-Humid', 0)\n",
    "    very_cold = row.get('CLIMATE_Very-Cold', 0)\n",
    "    mixed_humid = row.get('CLIMATE_Mixed-Humid', 0)\n",
    "    \n",
    "    energy_fuzzy = fuzz_energy(energy, *energy_params)\n",
    "    \n",
    "    if energy_fuzzy['low'] > 0.5 and cold:\n",
    "        return 100  # Rule 1\n",
    "    elif energy_fuzzy['low'] > 0.5 and hot_humid:\n",
    "        return 50   # Rule 2\n",
    "    elif energy_fuzzy['medium'] > 0.5 and very_cold:\n",
    "        return 50   # Rule 3\n",
    "    elif energy_fuzzy['medium'] > 0.5 and mixed_humid:\n",
    "        return 50   # Rule 4\n",
    "    elif energy_fuzzy['high'] > 0.5 and cold:\n",
    "        return 50   # Rule 5\n",
    "    elif energy_fuzzy['high'] > 0.5 and hot_humid:\n",
    "        return 0    # Rule 6\n",
    "    else:\n",
    "        return 33   # Default"
   ]
  },
  {
   "cell_type": "code",
   "execution_count": null,
   "id": "cc9bd675",
   "metadata": {},
   "outputs": [],
   "source": [
    "# Rule evaluation for FUZZY_OUTPUT\n",
    "def rule_evaluation(energy, climate_flags, income, equipment_age):\n",
    "    fuzz_e = fuzz_energy(energy, *energy_params)\n",
    "    fuzz_i = fuzz_income(income, *income_params)\n",
    "    \n",
    "    score = {'low': 0, 'medium': 0, 'high': 0}\n",
    "    \n",
    "    # Rule 1: Low energy, Cold climate → High efficiency\n",
    "    if climate_flags.get('CLIMATE_Cold', 0) == 1:\n",
    "        score['high'] += fuzz_e['low']\n",
    "    \n",
    "    # Rule 2: High energy, Hot-Humid → Low efficiency\n",
    "    if climate_flags.get('CLIMATE_Hot-Humid', 0) == 1:\n",
    "        score['low'] += fuzz_e['high']\n",
    "    \n",
    "    # Rule 3: Medium income → Moderate efficiency\n",
    "    score['medium'] += fuzz_i['medium']\n",
    "    \n",
    "    # Rule 4: Old equipment → Low efficiency\n",
    "    if equipment_age > equipment_params[1]:\n",
    "        score['low'] += 0.5\n",
    "    \n",
    "    # Rule 5: Low energy and high income → High efficiency\n",
    "    if fuzz_e['low'] > 0.5 and fuzz_i['high'] > 0.5:\n",
    "        score['high'] += 0.5\n",
    "    \n",
    "    # Normalize (convert to percentage)\n",
    "    total = sum(score.values())\n",
    "    if total > 0:\n",
    "        for k in score:\n",
    "            score[k] = round(score[k] / total * 100, 2)\n",
    "    \n",
    "    return score"
   ]
  },
  {
   "cell_type": "code",
   "execution_count": null,
   "metadata": {},
   "outputs": [],
   "source": [
    "# Apply fuzzy logic\n",
    "df['EFFICIENCY_SCORE'] = df.apply(fuzzy_efficiency_score, axis=1)\n",
    "df['RULE_BASED_EFFICIENCY'] = df.apply(rule_based_efficiency, axis=1)\n",
    "df['FUZZY_OUTPUT'] = df.apply(\n",
    "    lambda row: rule_evaluation(\n",
    "        row['ENERGY_CONSUMPTION_PER_SQFT'],\n",
    "        row.to_dict(),\n",
    "        row['Pct_INCOME_MORE_THAN_150K'],\n",
    "        row['Pct_MAIN_HEAT_AGE_OLDER_THAN_20']\n",
    "    ), axis=1\n",
    ")"
   ]
  },
  {
   "cell_type": "code",
   "execution_count": null,
   "metadata": {},
   "outputs": [],
   "source": [
    "# Add Efficiency_Class for Decision Tree\n",
    "df['Efficiency_Class'] = df['ENERGY_CONSUMPTION_PER_SQFT'].apply(\n",
    "    lambda x: \"High\" if x < df['ENERGY_CONSUMPTION_PER_SQFT'].quantile(0.33) else\n",
    "             (\"Moderate\" if x <= df['ENERGY_CONSUMPTION_PER_SQFT'].quantile(0.66) else \"Low\")\n",
    ")"
   ]
  },
  {
   "cell_type": "code",
   "execution_count": null,
   "metadata": {},
   "outputs": [],
   "source": [
    "# Refine Decision Tree predictions with fuzzy logic\n",
    "df['FINAL_CLASS'] = df.apply(\n",
    "    lambda row: max(row['FUZZY_OUTPUT'], key=row['FUZZY_OUTPUT'].get)\n",
    "    if row['FUZZY_OUTPUT']['high'] > 60 else row['Efficiency_Class'], axis=1\n",
    ")\n",
    "\n",
    "# Expand FUZZY_OUTPUT into columns\n",
    "fuzzy_df = pd.DataFrame(df['FUZZY_OUTPUT'].tolist())\n",
    "fuzzy_df['STATE'] = df['STATE']\n",
    "fuzzy_df = fuzzy_df[['STATE', 'low', 'medium', 'high']]"
   ]
  },
  {
   "cell_type": "code",
   "execution_count": null,
   "metadata": {},
   "outputs": [],
   "source": [
    "# Save results\n",
    "output_path = os.path.join(PROCESSED_DIR, \"merged_with_efficiency.csv\")\n",
    "df.to_csv(output_path, index=False)\n",
    "\n",
    "# Verify results\n",
    "print(f\"Dataset with fuzzy scores saved to {output_path}\")\n",
    "print(\"Columns in saved dataset:\", df.columns.tolist())\n",
    "print(\"Sample FUZZY_OUTPUT:\", df['FUZZY_OUTPUT'].head().tolist())\n",
    "print(\"Fuzzy Output Preview:\")\n",
    "print(fuzzy_df.head(10))"
   ]
  }
 ],
 "metadata": {
  "kernelspec": {
   "display_name": "Python 3",
   "language": "python",
   "name": "python3"
  },
  "language_info": {
   "codemirror_mode": {
    "name": "ipython",
    "version": 3
   },
   "file_extension": ".py",
   "mimetype": "text/x-python",
   "name": "python",
   "nbconvert_exporter": "python",
   "pygments_lexer": "ipython3",
   "version": "3.12.2"
  }
 },
 "nbformat": 4,
 "nbformat_minor": 5
}
