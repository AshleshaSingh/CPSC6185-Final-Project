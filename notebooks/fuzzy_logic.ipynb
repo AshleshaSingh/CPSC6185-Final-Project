{
 "cells": [
  {
   "cell_type": "code",
   "execution_count": 3,
   "id": "ab667c66",
   "metadata": {},
   "outputs": [
    {
     "name": "stdout",
     "output_type": "stream",
     "text": [
      "Requirement already satisfied: scikit-fuzzy in /home/codespace/.local/lib/python3.12/site-packages (0.4.2)\n",
      "Requirement already satisfied: numpy>=1.6.0 in /home/codespace/.local/lib/python3.12/site-packages (from scikit-fuzzy) (1.26.4)\n",
      "Requirement already satisfied: scipy>=0.9.0 in /home/codespace/.local/lib/python3.12/site-packages (from scikit-fuzzy) (1.15.2)\n",
      "Requirement already satisfied: networkx>=1.9.0 in /home/codespace/.local/lib/python3.12/site-packages (from scikit-fuzzy) (3.4.2)\n"
     ]
    }
   ],
   "source": [
    "## Fuzzy Logic: Membership Functions\n",
    "!pip install --user scikit-fuzzy\n"
   ]
  },
  {
   "cell_type": "code",
   "execution_count": 6,
   "id": "eb08d06a",
   "metadata": {},
   "outputs": [],
   "source": [
    "def fuzzy_efficiency_score(row):\n",
    "    energy = row['ENERGY_CONSUMPTION_PER_SQFT']\n",
    "    income = row['Pct_INCOME_MORE_THAN_150K']\n",
    "\n",
    "    if energy < 35:\n",
    "        energy_score = 1.0\n",
    "    elif 35 <= energy <= 45:\n",
    "        energy_score = 0.5\n",
    "    else:\n",
    "        energy_score = 0.0\n",
    "\n",
    "    if income > 20:\n",
    "        income_score = 1.0\n",
    "    elif 10 < income <= 20:\n",
    "        income_score = 0.5\n",
    "    else:\n",
    "        income_score = 0.0\n",
    "\n",
    "    return round((energy_score + income_score) / 2 * 100, 2)\n"
   ]
  },
  {
   "cell_type": "code",
   "execution_count": 9,
   "id": "5f5a9369",
   "metadata": {},
   "outputs": [
    {
     "data": {
      "text/html": [
       "<div>\n",
       "<style scoped>\n",
       "    .dataframe tbody tr th:only-of-type {\n",
       "        vertical-align: middle;\n",
       "    }\n",
       "\n",
       "    .dataframe tbody tr th {\n",
       "        vertical-align: top;\n",
       "    }\n",
       "\n",
       "    .dataframe thead th {\n",
       "        text-align: right;\n",
       "    }\n",
       "</style>\n",
       "<table border=\"1\" class=\"dataframe\">\n",
       "  <thead>\n",
       "    <tr style=\"text-align: right;\">\n",
       "      <th></th>\n",
       "      <th>STATE</th>\n",
       "      <th>ENERGY_CONSUMPTION_PER_SQFT</th>\n",
       "      <th>Pct_INCOME_MORE_THAN_150K</th>\n",
       "      <th>EFFICIENCY_SCORE</th>\n",
       "    </tr>\n",
       "  </thead>\n",
       "  <tbody>\n",
       "    <tr>\n",
       "      <th>0</th>\n",
       "      <td>Colorado</td>\n",
       "      <td>43.74</td>\n",
       "      <td>15.86</td>\n",
       "      <td>50.0</td>\n",
       "    </tr>\n",
       "    <tr>\n",
       "      <th>1</th>\n",
       "      <td>Utah</td>\n",
       "      <td>43.08</td>\n",
       "      <td>11.72</td>\n",
       "      <td>50.0</td>\n",
       "    </tr>\n",
       "    <tr>\n",
       "      <th>2</th>\n",
       "      <td>Idaho</td>\n",
       "      <td>45.09</td>\n",
       "      <td>7.67</td>\n",
       "      <td>0.0</td>\n",
       "    </tr>\n",
       "    <tr>\n",
       "      <th>3</th>\n",
       "      <td>Montana</td>\n",
       "      <td>46.71</td>\n",
       "      <td>6.11</td>\n",
       "      <td>0.0</td>\n",
       "    </tr>\n",
       "    <tr>\n",
       "      <th>4</th>\n",
       "      <td>North Dakota</td>\n",
       "      <td>46.75</td>\n",
       "      <td>12.24</td>\n",
       "      <td>25.0</td>\n",
       "    </tr>\n",
       "  </tbody>\n",
       "</table>\n",
       "</div>"
      ],
      "text/plain": [
       "          STATE  ENERGY_CONSUMPTION_PER_SQFT  Pct_INCOME_MORE_THAN_150K  \\\n",
       "0      Colorado                        43.74                      15.86   \n",
       "1          Utah                        43.08                      11.72   \n",
       "2         Idaho                        45.09                       7.67   \n",
       "3       Montana                        46.71                       6.11   \n",
       "4  North Dakota                        46.75                      12.24   \n",
       "\n",
       "   EFFICIENCY_SCORE  \n",
       "0              50.0  \n",
       "1              50.0  \n",
       "2               0.0  \n",
       "3               0.0  \n",
       "4              25.0  "
      ]
     },
     "execution_count": 9,
     "metadata": {},
     "output_type": "execute_result"
    }
   ],
   "source": [
    "import pandas as pd\n",
    "\n",
    "# Load the merged dataset\n",
    "df = pd.read_csv(\"/workspaces/CPSC6185-Final-Project/data/processed/merged_cleaned.csv\")\n",
    "\n",
    "# Apply fuzzy efficiency score function\n",
    "df['EFFICIENCY_SCORE'] = df.apply(fuzzy_efficiency_score, axis=1)\n",
    "\n",
    "# Save the result (optional but recommended)\n",
    "df.to_csv(\"/workspaces/CPSC6185-Final-Project/data/processed/merged_cleaned.csv\", index=False)\n",
    "\n",
    "# Preview\n",
    "df[['STATE', 'ENERGY_CONSUMPTION_PER_SQFT', 'Pct_INCOME_MORE_THAN_150K', 'EFFICIENCY_SCORE']].head()\n"
   ]
  }
 ],
 "metadata": {
  "kernelspec": {
   "display_name": "Python 3",
   "language": "python",
   "name": "python3"
  },
  "language_info": {
   "codemirror_mode": {
    "name": "ipython",
    "version": 3
   },
   "file_extension": ".py",
   "mimetype": "text/x-python",
   "name": "python",
   "nbconvert_exporter": "python",
   "pygments_lexer": "ipython3",
   "version": "3.12.1"
  }
 },
 "nbformat": 4,
 "nbformat_minor": 5
}
